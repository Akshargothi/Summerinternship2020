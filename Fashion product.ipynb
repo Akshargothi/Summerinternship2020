{
 "cells": [
  {
   "cell_type": "code",
   "execution_count": 1,
   "metadata": {},
   "outputs": [],
   "source": [
    "import tensorflow as tf\n",
    "from tensorflow import keras"
   ]
  },
  {
   "cell_type": "code",
   "execution_count": 4,
   "metadata": {},
   "outputs": [],
   "source": [
    "# GRADED FUNCTION: train_mnist_conv\n",
    "def train_mnist_conv():\n",
    "    \n",
    "    class myCallback(tf.keras.callbacks.Callback):\n",
    "        def on_epoch_end(self, epoch, logs={}):\n",
    "            if(logs.get('acc')>0.998):\n",
    "                print(\"\\nReached 99.8% accuracy so cancelling training!\")\n",
    "                self.model.stop_training=True\n",
    "            \n",
    "            \n",
    "    callbacks=myCallback() \n",
    "\n",
    "    mnist = tf.keras.datasets.mnist\n",
    "    (training_images, training_labels), (test_images, test_labels) = mnist.load_data()\n",
    "    \n",
    "    training_images=training_images.reshape(60000,28,28,1)\n",
    "    training_images=training_images/255.0\n",
    "    test_images=test_images.reshape(10000,28,28,1)\n",
    "    test_images=test_images/255.0\n",
    "    \n",
    "\n",
    "    model = tf.keras.models.Sequential([\n",
    "        tf.keras.layers.Conv2D(64, (3,3), activation='relu',input_shape=(28,28,1)),\n",
    "        tf.keras.layers.MaxPooling2D(2,2),\n",
    "        tf.keras.layers.Flatten(),\n",
    "        tf.keras.layers.Dense(128, activation=tf.nn.relu),\n",
    "        tf.keras.layers.Dense(10, activation=tf.nn.softmax)\n",
    "          \n",
    "    ])\n",
    "\n",
    "    model.compile(optimizer='adam', loss='sparse_categorical_crossentropy', metrics=['acc'])\n",
    "    \n",
    "    model.summary()\n",
    "    \n",
    "    history = model.fit(training_images,training_labels,epochs=20,callbacks=[callbacks])\n",
    "    \n",
    "    return history.epoch, history.history['acc'][-1]\n",
    "\n"
   ]
  },
  {
   "cell_type": "code",
   "execution_count": 5,
   "metadata": {},
   "outputs": [
    {
     "name": "stdout",
     "output_type": "stream",
     "text": [
      "Model: \"sequential\"\n",
      "_________________________________________________________________\n",
      "Layer (type)                 Output Shape              Param #   \n",
      "=================================================================\n",
      "conv2d (Conv2D)              (None, 26, 26, 64)        640       \n",
      "_________________________________________________________________\n",
      "max_pooling2d (MaxPooling2D) (None, 13, 13, 64)        0         \n",
      "_________________________________________________________________\n",
      "flatten (Flatten)            (None, 10816)             0         \n",
      "_________________________________________________________________\n",
      "dense (Dense)                (None, 128)               1384576   \n",
      "_________________________________________________________________\n",
      "dense_1 (Dense)              (None, 10)                1290      \n",
      "=================================================================\n",
      "Total params: 1,386,506\n",
      "Trainable params: 1,386,506\n",
      "Non-trainable params: 0\n",
      "_________________________________________________________________\n",
      "Train on 60000 samples\n",
      "Epoch 1/20\n",
      "60000/60000 [==============================] - 45s 752us/sample - loss: 0.1352 - acc: 0.9592\n",
      "Epoch 2/20\n",
      "60000/60000 [==============================] - 47s 779us/sample - loss: 0.0476 - acc: 0.9854\n",
      "Epoch 3/20\n",
      "60000/60000 [==============================] - 48s 803us/sample - loss: 0.0291 - acc: 0.9909 - loss:\n",
      "Epoch 4/20\n",
      "60000/60000 [==============================] - 49s 816us/sample - loss: 0.0182 - acc: 0.9940\n",
      "Epoch 5/20\n",
      "60000/60000 [==============================] - 46s 770us/sample - loss: 0.0126 - acc: 0.9958\n",
      "Epoch 6/20\n",
      "60000/60000 [==============================] - 48s 798us/sample - loss: 0.0078 - acc: 0.9974\n",
      "Epoch 7/20\n",
      "60000/60000 [==============================] - 49s 824us/sample - loss: 0.0071 - acc: 0.9977\n",
      "Epoch 8/20\n",
      "59936/60000 [============================>.] - ETA: 0s - loss: 0.0053 - acc: 0.9983\n",
      "Reached 99.8% accuracy so cancelling training!\n",
      "60000/60000 [==============================] - 46s 770us/sample - loss: 0.0053 - acc: 0.9983\n"
     ]
    },
    {
     "data": {
      "text/plain": [
       "([0, 1, 2, 3, 4, 5, 6, 7], 0.99833333)"
      ]
     },
     "execution_count": 5,
     "metadata": {},
     "output_type": "execute_result"
    }
   ],
   "source": [
    "train_mnist_conv()"
   ]
  },
  {
   "cell_type": "code",
   "execution_count": null,
   "metadata": {},
   "outputs": [],
   "source": []
  }
 ],
 "metadata": {
  "kernelspec": {
   "display_name": "Python 3",
   "language": "python",
   "name": "python3"
  },
  "language_info": {
   "codemirror_mode": {
    "name": "ipython",
    "version": 3
   },
   "file_extension": ".py",
   "mimetype": "text/x-python",
   "name": "python",
   "nbconvert_exporter": "python",
   "pygments_lexer": "ipython3",
   "version": "3.7.0"
  }
 },
 "nbformat": 4,
 "nbformat_minor": 2
}
